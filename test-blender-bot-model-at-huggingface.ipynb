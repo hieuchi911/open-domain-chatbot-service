{
 "cells": [
  {
   "cell_type": "code",
   "execution_count": null,
   "metadata": {},
   "outputs": [],
   "source": [
    "# !pip install sanic\n",
    "# !pip install transformers==4.18.0\n",
    "# !pip install torch"
   ]
  },
  {
   "cell_type": "code",
   "execution_count": 7,
   "metadata": {},
   "outputs": [
    {
     "name": "stdout",
     "output_type": "stream",
     "text": [
      "[Errno 2] No such file or directory: 'models'\n",
      "/home/hieu/Documents/CT Group/chatbot and NLP/Facebook-Blender-Bot/models\n",
      "Git LFS initialized.\n",
      "Cloning into 'blenderbot-400M-distill'...\n",
      "remote: Enumerating objects: 28, done.\u001b[K\n",
      "remote: Counting objects: 100% (28/28), done.\u001b[K\n",
      "remote: Compressing objects: 100% (26/26), done.\u001b[K\n",
      "remote: Total 28 (delta 9), reused 0 (delta 0), pack-reused 0\u001b[K\n",
      "Unpacking objects: 100% (28/28), 76.91 KiB | 40.00 KiB/s, done.\n",
      "Filtering content: 100% (3/3), 2.71 GiB | 2.11 MiB/s, done.\n"
     ]
    }
   ],
   "source": [
    "# %mkdir blender-bot\n",
    "%cd models\n",
    "!git lfs install\n",
    "!git clone https://huggingface.co/facebook/blenderbot-400M-distill"
   ]
  },
  {
   "cell_type": "code",
   "execution_count": 1,
   "metadata": {},
   "outputs": [
    {
     "name": "stderr",
     "output_type": "stream",
     "text": [
      "/home/hieu/Documents/CT Group/chatbot and NLP/Facebook-Blender-Bot/bbot-venv/lib/python3.8/site-packages/tqdm/auto.py:22: TqdmWarning: IProgress not found. Please update jupyter and ipywidgets. See https://ipywidgets.readthedocs.io/en/stable/user_install.html\n",
      "  from .autonotebook import tqdm as notebook_tqdm\n",
      "2022-05-05 08:20:52.389330: W tensorflow/stream_executor/platform/default/dso_loader.cc:64] Could not load dynamic library 'libcudart.so.11.0'; dlerror: libcudart.so.11.0: cannot open shared object file: No such file or directory\n",
      "2022-05-05 08:20:52.389386: I tensorflow/stream_executor/cuda/cudart_stub.cc:29] Ignore above cudart dlerror if you do not have a GPU set up on your machine.\n"
     ]
    }
   ],
   "source": [
    "from transformers import AutoTokenizer, AutoModelForSeq2SeqLM\n",
    "\n",
    "tokenizer = AutoTokenizer.from_pretrained(\"facebook/blenderbot-400M-distill\")\n",
    "\n",
    "model = AutoModelForSeq2SeqLM.from_pretrained(\"facebook/blenderbot-400M-distill\")"
   ]
  },
  {
   "cell_type": "code",
   "execution_count": 4,
   "metadata": {},
   "outputs": [],
   "source": [
    "UTTERANCE = \"hello there, how is the weather today?\""
   ]
  },
  {
   "cell_type": "code",
   "execution_count": 5,
   "metadata": {},
   "outputs": [
    {
     "name": "stdout",
     "output_type": "stream",
     "text": [
      "Bot:   It is a little chilly, but not too bad. How is it where you are?\n"
     ]
    }
   ],
   "source": [
    "inputs = tokenizer([UTTERANCE], return_tensors=\"pt\")\n",
    "\n",
    "reply_ids = model.generate(**inputs)\n",
    "\n",
    "print(\"Bot: \", tokenizer.batch_decode(reply_ids, skip_special_tokens=True)[0])\n"
   ]
  }
 ],
 "metadata": {
  "interpreter": {
   "hash": "1cbd5d387a4d8a6421a29b89b8806734114d39b58a9e16f7b2b8eb9485e169e2"
  },
  "kernelspec": {
   "display_name": "Python 3.8.10 ('bbot-venv': venv)",
   "language": "python",
   "name": "python3"
  },
  "language_info": {
   "codemirror_mode": {
    "name": "ipython",
    "version": 3
   },
   "file_extension": ".py",
   "mimetype": "text/x-python",
   "name": "python",
   "nbconvert_exporter": "python",
   "pygments_lexer": "ipython3",
   "version": "3.8.10"
  },
  "orig_nbformat": 4
 },
 "nbformat": 4,
 "nbformat_minor": 2
}
